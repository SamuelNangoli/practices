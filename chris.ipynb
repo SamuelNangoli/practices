{
 "cells": [
  {
   "cell_type": "code",
   "execution_count": null,
   "id": "1e21ebd8",
   "metadata": {},
   "outputs": [
    {
     "name": "stdout",
     "output_type": "stream",
     "text": [
      "Max\n",
      "20\n"
     ]
    },
    {
     "ename": "AttributeError",
     "evalue": "'Student' object has no attribute '__gpa'",
     "output_type": "error",
     "traceback": [
      "\u001b[31m---------------------------------------------------------------------------\u001b[39m",
      "\u001b[31mAttributeError\u001b[39m                            Traceback (most recent call last)",
      "\u001b[36mCell\u001b[39m\u001b[36m \u001b[39m\u001b[32mIn[4]\u001b[39m\u001b[32m, line 10\u001b[39m\n\u001b[32m      8\u001b[39m \u001b[38;5;28mprint\u001b[39m(S.name)\n\u001b[32m      9\u001b[39m \u001b[38;5;28mprint\u001b[39m(S._age)\n\u001b[32m---> \u001b[39m\u001b[32m10\u001b[39m \u001b[38;5;28mprint\u001b[39m(\u001b[43mS\u001b[49m\u001b[43m.\u001b[49m\u001b[43m__gpa\u001b[49m)\n",
      "\u001b[31mAttributeError\u001b[39m: 'Student' object has no attribute '__gpa'"
     ]
    }
   ],
   "source": [
    "class Student:\n",
    "    def __init__(self, name, gpa):\n",
    "        self.name = name\n",
    "        self._age = 20\n",
    "        self.__gpa = gpa\n",
    "\n",
    "S = Student(\"Max\",4.5)\n",
    "print(S.name)\n",
    "print(S._age)\n",
    "print(S.Student__gpa)"
   ]
  },
  {
   "cell_type": "code",
   "execution_count": 14,
   "id": "0745ea76",
   "metadata": {},
   "outputs": [
    {
     "name": "stdout",
     "output_type": "stream",
     "text": [
      "4.8\n",
      "GPA must be between 0 and 5\n"
     ]
    }
   ],
   "source": [
    "class Student:\n",
    "    def __init__(self, name, gpa):\n",
    "        self.name = name\n",
    "        self.__gpa = gpa\n",
    "\n",
    "    def get_gpa(self):\n",
    "        return self.__gpa\n",
    "    def set_gpa(self, value):\n",
    "        if 0.0 <= value <= 5.0:\n",
    "            self.__gpa = value\n",
    "        else:\n",
    "            print(\"GPA must be between 0 and 5\")\n",
    "\n",
    "V = Student(\"Pedro\",4.8)\n",
    "print(V.get_gpa())\n",
    "V.set_gpa(7)\n",
    "\n"
   ]
  },
  {
   "cell_type": "code",
   "execution_count": 19,
   "id": "e6d282bf",
   "metadata": {},
   "outputs": [
    {
     "name": "stdout",
     "output_type": "stream",
     "text": [
      "3.9\n",
      "Invalid GPA\n"
     ]
    }
   ],
   "source": [
    "class Student:\n",
    "    def __init__(self, gpa):\n",
    "        self._gpa = gpa\n",
    "        \n",
    "    @property\n",
    "    def gpa(self):\n",
    "        return self._gpa\n",
    "    \n",
    "    @gpa.setter\n",
    "    def gpa(self, value):\n",
    "        if 0.0 <= value <= 5.0:\n",
    "            self._gpa = value\n",
    "        else:\n",
    "            print(\"Invalid GPA\")\n",
    "\n",
    "S = Student(3.9)\n",
    "print(S.gpa)\n",
    "S.gpa = 4.8\n",
    "S.gpa = 7 "
   ]
  }
 ],
 "metadata": {
  "kernelspec": {
   "display_name": "Python 3",
   "language": "python",
   "name": "python3"
  },
  "language_info": {
   "codemirror_mode": {
    "name": "ipython",
    "version": 3
   },
   "file_extension": ".py",
   "mimetype": "text/x-python",
   "name": "python",
   "nbconvert_exporter": "python",
   "pygments_lexer": "ipython3",
   "version": "3.13.7"
  }
 },
 "nbformat": 4,
 "nbformat_minor": 5
}
