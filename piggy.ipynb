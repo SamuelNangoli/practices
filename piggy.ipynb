{
 "cells": [
  {
   "cell_type": "code",
   "execution_count": 1,
   "id": "538837fb",
   "metadata": {},
   "outputs": [
    {
     "name": "stdout",
     "output_type": "stream",
     "text": [
      "i have: 600 coins\n"
     ]
    }
   ],
   "source": [
    "coins = 100\n",
    "coins = 100 + 500\n",
    "print(\"i have:\", coins, \"coins\")\n"
   ]
  },
  {
   "cell_type": "code",
   "execution_count": 1,
   "id": "0de326d7",
   "metadata": {},
   "outputs": [
    {
     "name": "stdout",
     "output_type": "stream",
     "text": [
      "Trent has 5400 which is not bad for the start\n"
     ]
    }
   ],
   "source": [
    "class piggyBank:\n",
    "    def __init__(self, coins):\n",
    "        self._coins = coins\n",
    "        self.put_in(coins)\n",
    "        #method for depositing or putting in money\n",
    "        #setter\n",
    "    def put_in(self, amount):\n",
    "        if amount <= 0:\n",
    "            raise ValueError(\"Add real money\")\n",
    "        self._coins += amount\n",
    "        #method for withdraw or removing money\n",
    "        #setter\n",
    "    def take_out(self, amount):\n",
    "        if amount <= 0:\n",
    "            raise ValueError(\"Be for real Manz\")\n",
    "        if amount >= self.coins:\n",
    "            raise ValueError(\"Money will come\")\n",
    "        self._coins -= amount\n",
    "        #method for getting the balance or how much\n",
    "    def how_much(self):\n",
    "        return self._coins\n",
    "    \n",
    "trent = piggyBank(1200)\n",
    "trent.put_in(3000)\n",
    "\n",
    "print(\"Trent has\", trent._coins, \"which is not bad for the start\")"
   ]
  },
  {
   "cell_type": "code",
   "execution_count": 2,
   "id": "fd081764",
   "metadata": {},
   "outputs": [],
   "source": [
    "class RTracker:\n",
    "    def __init__(self, partner):\n",
    "        self.partner = partner\n",
    "        self._trust = 75\n",
    "        self._mood = \"happy\"\n",
    "        self._vibe = 100\n",
    "\n",
    "    def build_trust(self, effort):\n",
    "        if effort <= 0:\n",
    "            raise ValueError(\"Not worthy\")\n",
    "        \n",
    "        self._trust += effort\n",
    "\n",
    "    def break_trust(self, effort):\n",
    "        if effort <= 0:\n",
    "            raise ValueError(\"Sorry\")\n",
    "        self._trust -= effort\n",
    "\n",
    "    def talk(self, duration):\n",
    "        if duration <= 0:\n",
    "            raise ValueError(\"Suspicious\")\n",
    "        \n",
    "        self._vibe += duration\n",
    "        self._trust += 17\n",
    "        self._mood = \"Very Kawa\"\n",
    "\n",
    "KFC = RTracker(\"Chill\")\n"
   ]
  }
 ],
 "metadata": {
  "kernelspec": {
   "display_name": "Python 3",
   "language": "python",
   "name": "python3"
  },
  "language_info": {
   "codemirror_mode": {
    "name": "ipython",
    "version": 3
   },
   "file_extension": ".py",
   "mimetype": "text/x-python",
   "name": "python",
   "nbconvert_exporter": "python",
   "pygments_lexer": "ipython3",
   "version": "3.13.7"
  }
 },
 "nbformat": 4,
 "nbformat_minor": 5
}
